{
 "cells": [
  {
   "cell_type": "code",
   "execution_count": 1,
   "metadata": {},
   "outputs": [],
   "source": [
    "import pandas as pd\n",
    "import numpy as np\n",
    "\n",
    "from sklearn.metrics.pairwise import linear_kernel\n",
    "from sklearn.feature_extraction.text import TfidfVectorizer\n",
    "from sklearn.metrics.pairwise import cosine_similarity"
   ]
  },
  {
   "cell_type": "code",
   "execution_count": 2,
   "metadata": {},
   "outputs": [
    {
     "name": "stdout",
     "output_type": "stream",
     "text": [
      "(27278, 3)\n"
     ]
    },
    {
     "data": {
      "text/html": [
       "<div>\n",
       "<style scoped>\n",
       "    .dataframe tbody tr th:only-of-type {\n",
       "        vertical-align: middle;\n",
       "    }\n",
       "\n",
       "    .dataframe tbody tr th {\n",
       "        vertical-align: top;\n",
       "    }\n",
       "\n",
       "    .dataframe thead th {\n",
       "        text-align: right;\n",
       "    }\n",
       "</style>\n",
       "<table border=\"1\" class=\"dataframe\">\n",
       "  <thead>\n",
       "    <tr style=\"text-align: right;\">\n",
       "      <th></th>\n",
       "      <th>movieId</th>\n",
       "      <th>title</th>\n",
       "      <th>genres</th>\n",
       "    </tr>\n",
       "  </thead>\n",
       "  <tbody>\n",
       "    <tr>\n",
       "      <th>0</th>\n",
       "      <td>1</td>\n",
       "      <td>Toy Story (1995)</td>\n",
       "      <td>Adventure|Animation|Children|Comedy|Fantasy</td>\n",
       "    </tr>\n",
       "    <tr>\n",
       "      <th>1</th>\n",
       "      <td>2</td>\n",
       "      <td>Jumanji (1995)</td>\n",
       "      <td>Adventure|Children|Fantasy</td>\n",
       "    </tr>\n",
       "    <tr>\n",
       "      <th>2</th>\n",
       "      <td>3</td>\n",
       "      <td>Grumpier Old Men (1995)</td>\n",
       "      <td>Comedy|Romance</td>\n",
       "    </tr>\n",
       "    <tr>\n",
       "      <th>3</th>\n",
       "      <td>4</td>\n",
       "      <td>Waiting to Exhale (1995)</td>\n",
       "      <td>Comedy|Drama|Romance</td>\n",
       "    </tr>\n",
       "    <tr>\n",
       "      <th>4</th>\n",
       "      <td>5</td>\n",
       "      <td>Father of the Bride Part II (1995)</td>\n",
       "      <td>Comedy</td>\n",
       "    </tr>\n",
       "  </tbody>\n",
       "</table>\n",
       "</div>"
      ],
      "text/plain": [
       "   movieId                               title  \\\n",
       "0        1                    Toy Story (1995)   \n",
       "1        2                      Jumanji (1995)   \n",
       "2        3             Grumpier Old Men (1995)   \n",
       "3        4            Waiting to Exhale (1995)   \n",
       "4        5  Father of the Bride Part II (1995)   \n",
       "\n",
       "                                        genres  \n",
       "0  Adventure|Animation|Children|Comedy|Fantasy  \n",
       "1                   Adventure|Children|Fantasy  \n",
       "2                               Comedy|Romance  \n",
       "3                         Comedy|Drama|Romance  \n",
       "4                                       Comedy  "
      ]
     },
     "execution_count": 2,
     "metadata": {},
     "output_type": "execute_result"
    }
   ],
   "source": [
    "movies_df = pd.read_csv('Data/Input/movies.csv')\n",
    "print(movies_df.shape)\n",
    "movies_df.head()"
   ]
  },
  {
   "cell_type": "code",
   "execution_count": 3,
   "metadata": {},
   "outputs": [
    {
     "name": "stdout",
     "output_type": "stream",
     "text": [
      "(465564, 4)\n"
     ]
    },
    {
     "data": {
      "text/html": [
       "<div>\n",
       "<style scoped>\n",
       "    .dataframe tbody tr th:only-of-type {\n",
       "        vertical-align: middle;\n",
       "    }\n",
       "\n",
       "    .dataframe tbody tr th {\n",
       "        vertical-align: top;\n",
       "    }\n",
       "\n",
       "    .dataframe thead th {\n",
       "        text-align: right;\n",
       "    }\n",
       "</style>\n",
       "<table border=\"1\" class=\"dataframe\">\n",
       "  <thead>\n",
       "    <tr style=\"text-align: right;\">\n",
       "      <th></th>\n",
       "      <th>userId</th>\n",
       "      <th>movieId</th>\n",
       "      <th>tag</th>\n",
       "      <th>timestamp</th>\n",
       "    </tr>\n",
       "  </thead>\n",
       "  <tbody>\n",
       "    <tr>\n",
       "      <th>0</th>\n",
       "      <td>18</td>\n",
       "      <td>4141</td>\n",
       "      <td>Mark Waters</td>\n",
       "      <td>1240597180</td>\n",
       "    </tr>\n",
       "    <tr>\n",
       "      <th>1</th>\n",
       "      <td>65</td>\n",
       "      <td>208</td>\n",
       "      <td>dark hero</td>\n",
       "      <td>1368150078</td>\n",
       "    </tr>\n",
       "    <tr>\n",
       "      <th>2</th>\n",
       "      <td>65</td>\n",
       "      <td>353</td>\n",
       "      <td>dark hero</td>\n",
       "      <td>1368150079</td>\n",
       "    </tr>\n",
       "    <tr>\n",
       "      <th>3</th>\n",
       "      <td>65</td>\n",
       "      <td>521</td>\n",
       "      <td>noir thriller</td>\n",
       "      <td>1368149983</td>\n",
       "    </tr>\n",
       "    <tr>\n",
       "      <th>4</th>\n",
       "      <td>65</td>\n",
       "      <td>592</td>\n",
       "      <td>dark hero</td>\n",
       "      <td>1368150078</td>\n",
       "    </tr>\n",
       "  </tbody>\n",
       "</table>\n",
       "</div>"
      ],
      "text/plain": [
       "   userId  movieId            tag   timestamp\n",
       "0      18     4141    Mark Waters  1240597180\n",
       "1      65      208      dark hero  1368150078\n",
       "2      65      353      dark hero  1368150079\n",
       "3      65      521  noir thriller  1368149983\n",
       "4      65      592      dark hero  1368150078"
      ]
     },
     "execution_count": 3,
     "metadata": {},
     "output_type": "execute_result"
    }
   ],
   "source": [
    "userItem_df = pd.read_csv('Data/Input/tags.csv')\n",
    "print(userItem_df.shape)\n",
    "userItem_df.head()"
   ]
  },
  {
   "cell_type": "code",
   "execution_count": 4,
   "metadata": {},
   "outputs": [
    {
     "data": {
      "text/plain": [
       "(465564, 6)"
      ]
     },
     "execution_count": 4,
     "metadata": {},
     "output_type": "execute_result"
    }
   ],
   "source": [
    "df = pd.merge(userItem_df, movies_df, on='movieId', how='left')\n",
    "df.shape"
   ]
  },
  {
   "cell_type": "code",
   "execution_count": 5,
   "metadata": {},
   "outputs": [
    {
     "data": {
      "text/plain": [
       "(465564, 6)"
      ]
     },
     "execution_count": 5,
     "metadata": {},
     "output_type": "execute_result"
    }
   ],
   "source": [
    "df = df[~df.isna()]\n",
    "df.shape"
   ]
  },
  {
   "cell_type": "code",
   "execution_count": 6,
   "metadata": {},
   "outputs": [],
   "source": [
    "df.drop_duplicates(subset=['userId','movieId'], inplace=True)"
   ]
  },
  {
   "cell_type": "code",
   "execution_count": 7,
   "metadata": {},
   "outputs": [
    {
     "data": {
      "text/plain": [
       "(174844, 6)"
      ]
     },
     "execution_count": 7,
     "metadata": {},
     "output_type": "execute_result"
    }
   ],
   "source": [
    "df.shape"
   ]
  },
  {
   "cell_type": "code",
   "execution_count": 8,
   "metadata": {},
   "outputs": [
    {
     "data": {
      "text/html": [
       "<div>\n",
       "<style scoped>\n",
       "    .dataframe tbody tr th:only-of-type {\n",
       "        vertical-align: middle;\n",
       "    }\n",
       "\n",
       "    .dataframe tbody tr th {\n",
       "        vertical-align: top;\n",
       "    }\n",
       "\n",
       "    .dataframe thead th {\n",
       "        text-align: right;\n",
       "    }\n",
       "</style>\n",
       "<table border=\"1\" class=\"dataframe\">\n",
       "  <thead>\n",
       "    <tr style=\"text-align: right;\">\n",
       "      <th></th>\n",
       "      <th>userId</th>\n",
       "      <th>movieId</th>\n",
       "      <th>tag</th>\n",
       "      <th>timestamp</th>\n",
       "      <th>title</th>\n",
       "      <th>genres</th>\n",
       "    </tr>\n",
       "  </thead>\n",
       "  <tbody>\n",
       "    <tr>\n",
       "      <th>0</th>\n",
       "      <td>18</td>\n",
       "      <td>4141</td>\n",
       "      <td>Mark Waters</td>\n",
       "      <td>1240597180</td>\n",
       "      <td>Head Over Heels (2001)</td>\n",
       "      <td>Comedy|Romance</td>\n",
       "    </tr>\n",
       "    <tr>\n",
       "      <th>1</th>\n",
       "      <td>65</td>\n",
       "      <td>208</td>\n",
       "      <td>dark hero</td>\n",
       "      <td>1368150078</td>\n",
       "      <td>Waterworld (1995)</td>\n",
       "      <td>Action|Adventure|Sci-Fi</td>\n",
       "    </tr>\n",
       "    <tr>\n",
       "      <th>2</th>\n",
       "      <td>65</td>\n",
       "      <td>353</td>\n",
       "      <td>dark hero</td>\n",
       "      <td>1368150079</td>\n",
       "      <td>Crow, The (1994)</td>\n",
       "      <td>Action|Crime|Fantasy|Thriller</td>\n",
       "    </tr>\n",
       "    <tr>\n",
       "      <th>3</th>\n",
       "      <td>65</td>\n",
       "      <td>521</td>\n",
       "      <td>noir thriller</td>\n",
       "      <td>1368149983</td>\n",
       "      <td>Romeo Is Bleeding (1993)</td>\n",
       "      <td>Crime|Thriller</td>\n",
       "    </tr>\n",
       "    <tr>\n",
       "      <th>4</th>\n",
       "      <td>65</td>\n",
       "      <td>592</td>\n",
       "      <td>dark hero</td>\n",
       "      <td>1368150078</td>\n",
       "      <td>Batman (1989)</td>\n",
       "      <td>Action|Crime|Thriller</td>\n",
       "    </tr>\n",
       "  </tbody>\n",
       "</table>\n",
       "</div>"
      ],
      "text/plain": [
       "   userId  movieId            tag   timestamp                     title  \\\n",
       "0      18     4141    Mark Waters  1240597180    Head Over Heels (2001)   \n",
       "1      65      208      dark hero  1368150078         Waterworld (1995)   \n",
       "2      65      353      dark hero  1368150079          Crow, The (1994)   \n",
       "3      65      521  noir thriller  1368149983  Romeo Is Bleeding (1993)   \n",
       "4      65      592      dark hero  1368150078             Batman (1989)   \n",
       "\n",
       "                          genres  \n",
       "0                 Comedy|Romance  \n",
       "1        Action|Adventure|Sci-Fi  \n",
       "2  Action|Crime|Fantasy|Thriller  \n",
       "3                 Crime|Thriller  \n",
       "4          Action|Crime|Thriller  "
      ]
     },
     "execution_count": 8,
     "metadata": {},
     "output_type": "execute_result"
    }
   ],
   "source": [
    "df.head()"
   ]
  },
  {
   "cell_type": "markdown",
   "metadata": {},
   "source": [
    "# Conetent Base Filtering Top-N using TF-IDF\n",
    "Recommend other movies based on genre of the selected movie."
   ]
  },
  {
   "cell_type": "code",
   "execution_count": 9,
   "metadata": {},
   "outputs": [],
   "source": [
    "def remove_bars(value):\n",
    "    return ' '.join(value.split('|'))\n",
    "movies_df['genres'] = movies_df['genres'].apply(remove_bars)\n",
    "movies_df.head()\n",
    "movies_df = movies_df.iloc[0:10000,:]"
   ]
  },
  {
   "cell_type": "code",
   "execution_count": 10,
   "metadata": {},
   "outputs": [
    {
     "data": {
      "text/html": [
       "<div>\n",
       "<style scoped>\n",
       "    .dataframe tbody tr th:only-of-type {\n",
       "        vertical-align: middle;\n",
       "    }\n",
       "\n",
       "    .dataframe tbody tr th {\n",
       "        vertical-align: top;\n",
       "    }\n",
       "\n",
       "    .dataframe thead th {\n",
       "        text-align: right;\n",
       "    }\n",
       "</style>\n",
       "<table border=\"1\" class=\"dataframe\">\n",
       "  <thead>\n",
       "    <tr style=\"text-align: right;\">\n",
       "      <th></th>\n",
       "      <th>movieId</th>\n",
       "      <th>title</th>\n",
       "      <th>genres</th>\n",
       "    </tr>\n",
       "  </thead>\n",
       "  <tbody>\n",
       "    <tr>\n",
       "      <th>0</th>\n",
       "      <td>1</td>\n",
       "      <td>Toy Story (1995)</td>\n",
       "      <td>Adventure Animation Children Comedy Fantasy</td>\n",
       "    </tr>\n",
       "    <tr>\n",
       "      <th>1</th>\n",
       "      <td>2</td>\n",
       "      <td>Jumanji (1995)</td>\n",
       "      <td>Adventure Children Fantasy</td>\n",
       "    </tr>\n",
       "    <tr>\n",
       "      <th>2</th>\n",
       "      <td>3</td>\n",
       "      <td>Grumpier Old Men (1995)</td>\n",
       "      <td>Comedy Romance</td>\n",
       "    </tr>\n",
       "    <tr>\n",
       "      <th>3</th>\n",
       "      <td>4</td>\n",
       "      <td>Waiting to Exhale (1995)</td>\n",
       "      <td>Comedy Drama Romance</td>\n",
       "    </tr>\n",
       "    <tr>\n",
       "      <th>4</th>\n",
       "      <td>5</td>\n",
       "      <td>Father of the Bride Part II (1995)</td>\n",
       "      <td>Comedy</td>\n",
       "    </tr>\n",
       "  </tbody>\n",
       "</table>\n",
       "</div>"
      ],
      "text/plain": [
       "   movieId                               title  \\\n",
       "0        1                    Toy Story (1995)   \n",
       "1        2                      Jumanji (1995)   \n",
       "2        3             Grumpier Old Men (1995)   \n",
       "3        4            Waiting to Exhale (1995)   \n",
       "4        5  Father of the Bride Part II (1995)   \n",
       "\n",
       "                                        genres  \n",
       "0  Adventure Animation Children Comedy Fantasy  \n",
       "1                   Adventure Children Fantasy  \n",
       "2                               Comedy Romance  \n",
       "3                         Comedy Drama Romance  \n",
       "4                                       Comedy  "
      ]
     },
     "execution_count": 10,
     "metadata": {},
     "output_type": "execute_result"
    }
   ],
   "source": [
    "movies_df.head()"
   ]
  },
  {
   "cell_type": "code",
   "execution_count": 11,
   "metadata": {},
   "outputs": [],
   "source": [
    "def generate_tfidf_vector(title):\n",
    "    def movie_recommendations(movie_title):\n",
    "        titles = movies_df['title']\n",
    "        indices = pd.Series(movies_df.index, index=movies_df['title'])\n",
    "        #print(indices)\n",
    "        idx = indices[movie_title]\n",
    "        #print(idx)\n",
    "        sim_scores = list(enumerate(cosine_sim[idx]))\n",
    "        sim_scores = sorted(sim_scores, key=lambda x: x[1], reverse=True)\n",
    "        #print(sim_scores)\n",
    "        sim_scores = sim_scores[1:21]\n",
    "        movie_indices = [i[0] for i in sim_scores]\n",
    "        #print(movie_indices)\n",
    "        return titles.iloc[movie_indices]\n",
    "\n",
    "    tf = TfidfVectorizer(analyzer='word',ngram_range=(1, 1),min_df=0, stop_words='english')\n",
    "    #print(tf)\n",
    "    tfidf_matrix = tf.fit_transform(movies_df['genres'])\n",
    "    temp_df = pd.DataFrame(tfidf_matrix.toarray(), columns = tf.get_feature_names())\n",
    "    #print(temp_df)\n",
    "    # generate cosine similarity\n",
    "    cosine_sim = linear_kernel(tfidf_matrix, tfidf_matrix)\n",
    "\n",
    "\n",
    "    return movie_recommendations(title)"
   ]
  },
  {
   "cell_type": "code",
   "execution_count": 12,
   "metadata": {},
   "outputs": [
    {
     "data": {
      "text/plain": [
       "2209                                       Antz (1998)\n",
       "3027                                Toy Story 2 (1999)\n",
       "3663    Adventures of Rocky and Bullwinkle, The (2000)\n",
       "3922                  Emperor's New Groove, The (2000)\n",
       "4790                             Monsters, Inc. (2001)\n",
       "1949                        Black Cauldron, The (1985)\n",
       "2032                     Lord of the Rings, The (1978)\n",
       "3312             We're Back! A Dinosaur's Story (1993)\n",
       "4271                  Atlantis: The Lost Empire (2001)\n",
       "4424                      Land Before Time, The (1988)\n",
       "Name: title, dtype: object"
      ]
     },
     "execution_count": 12,
     "metadata": {},
     "output_type": "execute_result"
    }
   ],
   "source": [
    "generate_tfidf_vector('Toy Story (1995)').head(10)"
   ]
  },
  {
   "cell_type": "markdown",
   "metadata": {},
   "source": [
    "# Content Based Predictive Recommendation\n",
    "Let us consider the case, where we have a list of 3 movies that will be displayed in cinema. We want to recommend movies via push notification, to each of our user based on it's past preferences. Moreover, keep in mind we do not recommend the movie that user has already watched. \n",
    "For this we will not be adding new movies will be using already available movies."
   ]
  },
  {
   "cell_type": "markdown",
   "metadata": {},
   "source": [
    "Let's consider these three movies Frozen (2013),John Wick (2014),Divergent (2014)"
   ]
  },
  {
   "cell_type": "code",
   "execution_count": null,
   "metadata": {},
   "outputs": [],
   "source": [
    "df[df.title.str.contains('Divergent')]['genres'].values"
   ]
  },
  {
   "cell_type": "code",
   "execution_count": 13,
   "metadata": {},
   "outputs": [],
   "source": [
    "df['genres'] = df['genres'].apply(remove_bars)"
   ]
  },
  {
   "cell_type": "code",
   "execution_count": 14,
   "metadata": {},
   "outputs": [],
   "source": [
    "def knowledge_base(gdf):\n",
    "    return ' '.join(gdf['genres'].unique().tolist()) \n",
    "kb=df.groupby(by='userId').apply(knowledge_base).to_frame('TYPE').reset_index()"
   ]
  },
  {
   "cell_type": "code",
   "execution_count": 15,
   "metadata": {},
   "outputs": [],
   "source": [
    "# compare the vectorized input movie with all the movies watched by active users\n",
    "def generate_tfidf_vector(all_users_df, movie_info_dict):\n",
    "\n",
    "    #print(movie_info_dict)\n",
    "    tf = TfidfVectorizer(analyzer='word',ngram_range=(1, 1),min_df=0, stop_words='english')\n",
    "    all_users_df = all_users_df.append(movie_info_dict, ignore_index=True)\n",
    "    print(all_users_df.shape)\n",
    "\n",
    "    temp_df = all_users_df\n",
    "\n",
    "    tfidf_matrix = tf.fit_transform(temp_df['TYPE'])\n",
    "    #print(tfidf_matrix)\n",
    "    temp_dfm = pd.DataFrame(tfidf_matrix.toarray(), columns = tf.get_feature_names())\n",
    "    #print(temp_dfm)\n",
    "    #   # generate cosine similarity\n",
    "    tfidf_matrix = tfidf_matrix.toarray()\n",
    "    print('tfidf shape ',tfidf_matrix.shape)\n",
    "    cosine_sim = linear_kernel(tfidf_matrix[tfidf_matrix.shape[0]-1:tfidf_matrix.shape[0]], tfidf_matrix)\n",
    "    #print(tfidf_matrix[tfidf_matrix.shape[0]-1:tfidf_matrix.shape[0]])\n",
    "    movie_df = pd.DataFrame(tfidf_matrix[tfidf_matrix.shape[0]-1:tfidf_matrix.shape[0]], columns = tf.get_feature_names())\n",
    "    print('movie matrix', movie_df.shape)\n",
    "    print('Cosine Similarity:', cosine_sim.shape)\n",
    "    #print(\"CSim :\", cosine_sim)\n",
    "    print(type(cosine_sim))\n",
    "    #print(cosine_sim.tolist()[0])\n",
    "    temp_df[movie_info_dict['title']] = cosine_sim.tolist()[0]\n",
    "    return temp_df\n"
   ]
  },
  {
   "cell_type": "code",
   "execution_count": 19,
   "metadata": {},
   "outputs": [
    {
     "name": "stdout",
     "output_type": "stream",
     "text": [
      "Unique emails count: 7801\n",
      "(7802, 3)\n",
      "tfidf shape  (7802, 23)\n",
      "movie matrix (1, 23)\n",
      "Cosine Similarity: (1, 7802)\n",
      "<class 'numpy.ndarray'>\n",
      "(7803, 4)\n",
      "tfidf shape  (7803, 23)\n",
      "movie matrix (1, 23)\n",
      "Cosine Similarity: (1, 7803)\n",
      "<class 'numpy.ndarray'>\n",
      "(7804, 5)\n",
      "tfidf shape  (7804, 23)\n",
      "movie matrix (1, 23)\n",
      "Cosine Similarity: (1, 7804)\n",
      "<class 'numpy.ndarray'>\n"
     ]
    }
   ],
   "source": [
    "# Returns the dataframe containing the similarity b/w each user'movie and the provided movie\n",
    "movie_names=[]\n",
    "\n",
    "movie_genre_list=[('Frozen (2013)',  'Adventure Animation Comedy Fantasy Musical Romance'),\\\n",
    "                  ('John Wick (2014)',    'Action Thriller' ),\\\n",
    "                  ('Divergent (2014)', 'Adventure Romance Sci-Fi' )]\n",
    "input_list=[]\n",
    "test_list =[]\n",
    "rslt = kb\n",
    "print(\"Unique emails count:\", rslt.userId.nunique())\n",
    "for index,items in enumerate(movie_genre_list):\n",
    "    input_data ={'userId':'TEST'+str(index),'title':items[0], 'TYPE':items[1]}\n",
    "    rslt = generate_tfidf_vector(rslt, input_data)\n",
    "    movie_names.append(items[0])\n",
    "    test_list.append('TEST'+str(index))\n",
    "\n",
    "rslt.head()\n",
    "\n",
    "mask = rslt['userId'].isin(test_list)\n",
    "rslt = rslt[~mask]\n",
    "rslt.drop('title', inplace=True, axis=1)"
   ]
  },
  {
   "cell_type": "code",
   "execution_count": 20,
   "metadata": {
    "scrolled": true
   },
   "outputs": [
    {
     "data": {
      "text/html": [
       "<div>\n",
       "<style scoped>\n",
       "    .dataframe tbody tr th:only-of-type {\n",
       "        vertical-align: middle;\n",
       "    }\n",
       "\n",
       "    .dataframe tbody tr th {\n",
       "        vertical-align: top;\n",
       "    }\n",
       "\n",
       "    .dataframe thead th {\n",
       "        text-align: right;\n",
       "    }\n",
       "</style>\n",
       "<table border=\"1\" class=\"dataframe\">\n",
       "  <thead>\n",
       "    <tr style=\"text-align: right;\">\n",
       "      <th></th>\n",
       "      <th>userId</th>\n",
       "      <th>TYPE</th>\n",
       "      <th>Frozen (2013)</th>\n",
       "      <th>John Wick (2014)</th>\n",
       "      <th>Divergent (2014)</th>\n",
       "    </tr>\n",
       "  </thead>\n",
       "  <tbody>\n",
       "    <tr>\n",
       "      <th>0</th>\n",
       "      <td>18</td>\n",
       "      <td>Comedy Romance</td>\n",
       "      <td>0.455748</td>\n",
       "      <td>0.000000</td>\n",
       "      <td>0.364806</td>\n",
       "    </tr>\n",
       "    <tr>\n",
       "      <th>1</th>\n",
       "      <td>65</td>\n",
       "      <td>Action Adventure Sci-Fi Action Crime Fantasy T...</td>\n",
       "      <td>0.339010</td>\n",
       "      <td>0.506057</td>\n",
       "      <td>0.409976</td>\n",
       "    </tr>\n",
       "    <tr>\n",
       "      <th>2</th>\n",
       "      <td>96</td>\n",
       "      <td>Adventure Animation Comedy Fantasy Musical Rom...</td>\n",
       "      <td>1.000000</td>\n",
       "      <td>0.000000</td>\n",
       "      <td>0.338917</td>\n",
       "    </tr>\n",
       "    <tr>\n",
       "      <th>3</th>\n",
       "      <td>121</td>\n",
       "      <td>Comedy Crime Drama Comedy Comedy Romance Actio...</td>\n",
       "      <td>0.318917</td>\n",
       "      <td>0.277217</td>\n",
       "      <td>0.137393</td>\n",
       "    </tr>\n",
       "    <tr>\n",
       "      <th>4</th>\n",
       "      <td>129</td>\n",
       "      <td>Comedy Children Comedy Comedy Romance Drama Ro...</td>\n",
       "      <td>0.383337</td>\n",
       "      <td>0.350766</td>\n",
       "      <td>0.376221</td>\n",
       "    </tr>\n",
       "    <tr>\n",
       "      <th>...</th>\n",
       "      <td>...</td>\n",
       "      <td>...</td>\n",
       "      <td>...</td>\n",
       "      <td>...</td>\n",
       "      <td>...</td>\n",
       "    </tr>\n",
       "    <tr>\n",
       "      <th>7796</th>\n",
       "      <td>138414</td>\n",
       "      <td>Crime Mystery Thriller Drama Romance Action Sc...</td>\n",
       "      <td>0.511855</td>\n",
       "      <td>0.412699</td>\n",
       "      <td>0.513972</td>\n",
       "    </tr>\n",
       "    <tr>\n",
       "      <th>7797</th>\n",
       "      <td>138436</td>\n",
       "      <td>Crime Mystery Thriller Documentary Action Chil...</td>\n",
       "      <td>0.374461</td>\n",
       "      <td>0.522194</td>\n",
       "      <td>0.440643</td>\n",
       "    </tr>\n",
       "    <tr>\n",
       "      <th>7798</th>\n",
       "      <td>138437</td>\n",
       "      <td>Animation Documentary</td>\n",
       "      <td>0.308093</td>\n",
       "      <td>0.000000</td>\n",
       "      <td>0.000000</td>\n",
       "    </tr>\n",
       "    <tr>\n",
       "      <th>7799</th>\n",
       "      <td>138446</td>\n",
       "      <td>Comedy Drama Fantasy Children Comedy Fantasy M...</td>\n",
       "      <td>0.604761</td>\n",
       "      <td>0.078166</td>\n",
       "      <td>0.173034</td>\n",
       "    </tr>\n",
       "    <tr>\n",
       "      <th>7800</th>\n",
       "      <td>138472</td>\n",
       "      <td>Drama Mystery</td>\n",
       "      <td>0.000000</td>\n",
       "      <td>0.000000</td>\n",
       "      <td>0.000000</td>\n",
       "    </tr>\n",
       "  </tbody>\n",
       "</table>\n",
       "<p>7801 rows × 5 columns</p>\n",
       "</div>"
      ],
      "text/plain": [
       "      userId                                               TYPE  \\\n",
       "0         18                                     Comedy Romance   \n",
       "1         65  Action Adventure Sci-Fi Action Crime Fantasy T...   \n",
       "2         96  Adventure Animation Comedy Fantasy Musical Rom...   \n",
       "3        121  Comedy Crime Drama Comedy Comedy Romance Actio...   \n",
       "4        129  Comedy Children Comedy Comedy Romance Drama Ro...   \n",
       "...      ...                                                ...   \n",
       "7796  138414  Crime Mystery Thriller Drama Romance Action Sc...   \n",
       "7797  138436  Crime Mystery Thriller Documentary Action Chil...   \n",
       "7798  138437                              Animation Documentary   \n",
       "7799  138446  Comedy Drama Fantasy Children Comedy Fantasy M...   \n",
       "7800  138472                                      Drama Mystery   \n",
       "\n",
       "      Frozen (2013)  John Wick (2014)  Divergent (2014)  \n",
       "0          0.455748          0.000000          0.364806  \n",
       "1          0.339010          0.506057          0.409976  \n",
       "2          1.000000          0.000000          0.338917  \n",
       "3          0.318917          0.277217          0.137393  \n",
       "4          0.383337          0.350766          0.376221  \n",
       "...             ...               ...               ...  \n",
       "7796       0.511855          0.412699          0.513972  \n",
       "7797       0.374461          0.522194          0.440643  \n",
       "7798       0.308093          0.000000          0.000000  \n",
       "7799       0.604761          0.078166          0.173034  \n",
       "7800       0.000000          0.000000          0.000000  \n",
       "\n",
       "[7801 rows x 5 columns]"
      ]
     },
     "execution_count": 20,
     "metadata": {},
     "output_type": "execute_result"
    }
   ],
   "source": [
    "# similarity of provided movies with each user knowledge base\n",
    "rslt.head()"
   ]
  },
  {
   "cell_type": "markdown",
   "metadata": {},
   "source": [
    "Now we have the similarity, Assign Movie Name based on the highest similarity "
   ]
  },
  {
   "cell_type": "code",
   "execution_count": 31,
   "metadata": {},
   "outputs": [],
   "source": [
    "def top_recommendations(row):\n",
    "    movies_distance_list= row[2:-1]\n",
    "    result = sorted(enumerate(movies_distance_list))\n",
    "    result = sorted(result, key=lambda x:x[1], reverse=True)\n",
    "    #print(result)\n",
    "    indices=[]\n",
    "    count=0\n",
    "    for var in range(len(result)):\n",
    "        # distance is non zero placed at 2nd index of tuple and distance is greater that thrashold\n",
    "        if result[var][1]!=0 and result[var][1]>0.20:\n",
    "          #print(var, result[var])\n",
    "            if count>3:\n",
    "                break\n",
    "            indices.append(result[var][0])\n",
    "            count+=1\n",
    "\n",
    "    #print(indices)\n",
    "    res_list = [movie_names[i] for i in indices]\n",
    "    # print(res_list)\n",
    "    if res_list:\n",
    "        return res_list\n",
    "    return ' '\n",
    "\n",
    "\n",
    "def assign_genre(movie_names):\n",
    "    recommended_movie_genre=[]\n",
    "    for name in movie_names:\n",
    "        data ={}\n",
    "        if name==' ':\n",
    "            data[\"v\"]=' '\n",
    "            recommended_movie_genre.append(data)\n",
    "        else:\n",
    "            data[name]= info[name]\n",
    "            recommended_movie_genre.append(data)\n",
    "    return recommended_movie_genre\n",
    "  \n",
    "rslt.loc[:,'RECOMMENDED'] = rslt.apply(lambda row: top_recommendations(row) , axis=1)\n",
    "#temp_g.loc[:,'RECOMMENDED2'] = temp_g.apply(lambda row: recommended_movie(row) , axis=1)\n",
    "#temp_g.loc[:,'r_genre'] = temp_g['RECOMMENDED'].apply(assign_genre)"
   ]
  },
  {
   "cell_type": "code",
   "execution_count": 32,
   "metadata": {},
   "outputs": [
    {
     "data": {
      "text/html": [
       "<div>\n",
       "<style scoped>\n",
       "    .dataframe tbody tr th:only-of-type {\n",
       "        vertical-align: middle;\n",
       "    }\n",
       "\n",
       "    .dataframe tbody tr th {\n",
       "        vertical-align: top;\n",
       "    }\n",
       "\n",
       "    .dataframe thead th {\n",
       "        text-align: right;\n",
       "    }\n",
       "</style>\n",
       "<table border=\"1\" class=\"dataframe\">\n",
       "  <thead>\n",
       "    <tr style=\"text-align: right;\">\n",
       "      <th></th>\n",
       "      <th>userId</th>\n",
       "      <th>TYPE</th>\n",
       "      <th>Frozen (2013)</th>\n",
       "      <th>John Wick (2014)</th>\n",
       "      <th>Divergent (2014)</th>\n",
       "      <th>RECOMMENDED</th>\n",
       "    </tr>\n",
       "  </thead>\n",
       "  <tbody>\n",
       "    <tr>\n",
       "      <th>0</th>\n",
       "      <td>18</td>\n",
       "      <td>Comedy Romance</td>\n",
       "      <td>0.455748</td>\n",
       "      <td>0.000000</td>\n",
       "      <td>0.364806</td>\n",
       "      <td>[Frozen (2013), Divergent (2014)]</td>\n",
       "    </tr>\n",
       "    <tr>\n",
       "      <th>1</th>\n",
       "      <td>65</td>\n",
       "      <td>Action Adventure Sci-Fi Action Crime Fantasy T...</td>\n",
       "      <td>0.339010</td>\n",
       "      <td>0.506057</td>\n",
       "      <td>0.409976</td>\n",
       "      <td>[John Wick (2014), Divergent (2014), Frozen (2...</td>\n",
       "    </tr>\n",
       "    <tr>\n",
       "      <th>2</th>\n",
       "      <td>96</td>\n",
       "      <td>Adventure Animation Comedy Fantasy Musical Rom...</td>\n",
       "      <td>1.000000</td>\n",
       "      <td>0.000000</td>\n",
       "      <td>0.338917</td>\n",
       "      <td>[Frozen (2013), Divergent (2014)]</td>\n",
       "    </tr>\n",
       "    <tr>\n",
       "      <th>3</th>\n",
       "      <td>121</td>\n",
       "      <td>Comedy Crime Drama Comedy Comedy Romance Actio...</td>\n",
       "      <td>0.318917</td>\n",
       "      <td>0.277217</td>\n",
       "      <td>0.137393</td>\n",
       "      <td>[Frozen (2013), John Wick (2014)]</td>\n",
       "    </tr>\n",
       "    <tr>\n",
       "      <th>4</th>\n",
       "      <td>129</td>\n",
       "      <td>Comedy Children Comedy Comedy Romance Drama Ro...</td>\n",
       "      <td>0.383337</td>\n",
       "      <td>0.350766</td>\n",
       "      <td>0.376221</td>\n",
       "      <td>[Frozen (2013), Divergent (2014), John Wick (2...</td>\n",
       "    </tr>\n",
       "  </tbody>\n",
       "</table>\n",
       "</div>"
      ],
      "text/plain": [
       "  userId                                               TYPE  Frozen (2013)  \\\n",
       "0     18                                     Comedy Romance       0.455748   \n",
       "1     65  Action Adventure Sci-Fi Action Crime Fantasy T...       0.339010   \n",
       "2     96  Adventure Animation Comedy Fantasy Musical Rom...       1.000000   \n",
       "3    121  Comedy Crime Drama Comedy Comedy Romance Actio...       0.318917   \n",
       "4    129  Comedy Children Comedy Comedy Romance Drama Ro...       0.383337   \n",
       "\n",
       "   John Wick (2014)  Divergent (2014)  \\\n",
       "0          0.000000          0.364806   \n",
       "1          0.506057          0.409976   \n",
       "2          0.000000          0.338917   \n",
       "3          0.277217          0.137393   \n",
       "4          0.350766          0.376221   \n",
       "\n",
       "                                         RECOMMENDED  \n",
       "0                  [Frozen (2013), Divergent (2014)]  \n",
       "1  [John Wick (2014), Divergent (2014), Frozen (2...  \n",
       "2                  [Frozen (2013), Divergent (2014)]  \n",
       "3                  [Frozen (2013), John Wick (2014)]  \n",
       "4  [Frozen (2013), Divergent (2014), John Wick (2...  "
      ]
     },
     "execution_count": 32,
     "metadata": {},
     "output_type": "execute_result"
    }
   ],
   "source": [
    "rslt.head()"
   ]
  },
  {
   "cell_type": "code",
   "execution_count": null,
   "metadata": {},
   "outputs": [],
   "source": []
  }
 ],
 "metadata": {
  "kernelspec": {
   "display_name": "Python 3",
   "language": "python",
   "name": "python3"
  },
  "language_info": {
   "codemirror_mode": {
    "name": "ipython",
    "version": 3
   },
   "file_extension": ".py",
   "mimetype": "text/x-python",
   "name": "python",
   "nbconvert_exporter": "python",
   "pygments_lexer": "ipython3",
   "version": "3.7.7"
  }
 },
 "nbformat": 4,
 "nbformat_minor": 4
}
